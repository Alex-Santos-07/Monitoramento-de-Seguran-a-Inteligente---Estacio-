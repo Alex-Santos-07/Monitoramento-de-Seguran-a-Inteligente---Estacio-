{
  "metadata": {
    "kernelspec": {
      "name": "SQLite",
      "display_name": "SQLite",
      "language": "sql"
    },
    "language_info": {
      "codemirror_mode": "sql",
      "file_extension": "",
      "mimetype": "",
      "name": "sql",
      "version": "3.32.3"
    }
  },
  "nbformat_minor": 4,
  "nbformat": 4,
  "cells": [
    {
      "cell_type": "code",
      "source": "\n\n\nimport sqlite3\nimport Monitoramento     \nfrom PySide6 import QtCore, QtGui, QtWidgets\nfrom PySide6.QtCore import QTimer, QRect, QCoreApplication, Qt\nfrom PySide6.QtGui import QFont\nfrom PySide6.QtWidgets import QMainWindow, QLabel, QTableWidget, QTableWidgetItem, QPushButton, QWidget, QStatusBar, QMenuBar, QMessageBox\nimport random\n\n<?xml version=\"1.0\" encoding=\"UTF-8\"?>\n<ui version=\"4.0\">\n <class>MainWindow</class>\n <widget class=\"QMainWindow\" name=\"MainWindow\">\n  <property name=\"geometry\">\n   <rect>\n    <x>0</x>\n    <y>0</y>\n    <width>561</width>\n    <height>530</height>\n   </rect>\n  </property>\n  <property name=\"font\">\n   <font>\n    <pointsize>12</pointsize>\n   </font>\n  </property>\n  <property name=\"windowTitle\">\n   <string>MainWindow</string>\n  </property>\n  <property name=\"styleSheet\">\n   <string notr=\"true\">background-color: rgb(74, 74, 255)</string>\n  </property>\n  <widget class=\"QWidget\" name=\"centralwidget\">\n   <widget class=\"QLabel\" name=\"label\">\n    <property name=\"geometry\">\n     <rect>\n      <x>150</x>\n      <y>0</y>\n      <width>301</width>\n      <height>51</height>\n     </rect>\n    </property>\n    <property name=\"font\">\n     <font>\n      <pointsize>16</pointsize>\n     </font>\n    </property>\n    <property name=\"text\">\n     <string>ENTRAR COM CÓDIGO DE ADMINISTRADOR</string>\n    </property>\n   </widget>\n   <widget class=\"QTableWidget\" name=\"tableWidget\">\n    <property name=\"geometry\">\n     <rect>\n      <x>0</x>\n      <y>50</y>\n      <width>561</width>\n      <height>371</height>\n     </rect>\n    </property>\n    <property name=\"styleSheet\">\n     <string notr=\"true\">background-color:rgb(0, 255, 127)</string>\n    </property>\n    <property name=\"gridStyle\">\n     <enum>Qt::PenStyle::NoPen</enum>\n    </property>\n    <column>\n     <property name=\"text\">\n      <string>ID</string>\n     </property>\n     <property name=\"font\">\n      <font>\n       <pointsize>11</pointsize>\n       <bold>true</bold>\n      </font>\n     </property>\n    </column>\n    <column>\n     <property name=\"text\">\n      <string>LOCAL</string>\n     </property>\n     <property name=\"font\">\n      <font>\n       <pointsize>11</pointsize>\n       <bold>true</bold>\n      </font>\n     </property>\n    </column>\n    <column>\n     <property name=\"text\">\n      <string>PRODUTO</string>\n     </property>\n     <property name=\"font\">\n      <font>\n       <pointsize>11</pointsize>\n       <bold>true</bold>\n      </font>\n     </property>\n    </column>\n    <column>\n     <property name=\"text\">\n      <string>CAMERA</string>\n     </property>\n     <property name=\"font\">\n      <font>\n       <pointsize>11</pointsize>\n       <bold>true</bold>\n      </font>\n     </property>\n    </column>\n    <column>\n     <property name=\"text\">\n      <string>PARTE DO DIA\n\t  <p> MANHÃ </p>\n\t  <p> TARDE </p>\n\t  <p> NOITE </p>\n\t  \n\t  </string>\n     </property>\n     <property name=\"font\">\n      <font>\n       <pointsize>11</pointsize>\n       <bold>true</bold>\n      </font>\n     </property>\n    </column>\n   </widget>\n   <widget class=\"QPushButton\" name=\"pushButton\">\n    <property name=\"geometry\">\n     <rect>\n      <x>224</x>\n      <y>443</y>\n      <width>91</width>\n      <height>31</height>\n     </rect>\n    </property>\n    <property name=\"font\">\n     <font>\n      <pointsize>12</pointsize>\n      <bold>true</bold>\n     </font>\n    </property>\n    <property name=\"styleSheet\">\n     <string notr=\"true\">background-color:rgb(255, 0, 0)</string>\n    </property>\n    <property name=\"text\">\n     <string>RELATORIO DE EVENTOS</string>\n    </property>\n   </widget>\n  </widget>\n  <widget class=\"QMenuBar\" name=\"menubar\">\n   <property name=\"geometry\">\n    <rect>\n     <x>0</x>\n     <y>0</y>\n     <width>561</width>\n     <height>22</height>\n    </rect>\n   </property>\n  </widget>\n  <widget class=\"QStatusBar\" name=\"statusbar\"/>\n </widget>\n <resources/>\n <connections/>\n</ui>\n\n",
      "metadata": {
        "trusted": true
      },
      "outputs": [],
      "execution_count": null
    }
  ]
}